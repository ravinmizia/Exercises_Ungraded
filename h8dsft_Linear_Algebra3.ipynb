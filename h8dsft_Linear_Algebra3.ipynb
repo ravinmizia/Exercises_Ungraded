{
 "cells": [
  {
   "cell_type": "code",
   "execution_count": null,
   "metadata": {},
   "outputs": [],
   "source": []
  }
 ],
 "metadata": {
  "kernelspec": {
   "display_name": "Python 3.11.0 64-bit",
   "language": "python",
   "name": "python3"
  },
  "language_info": {
   "name": "python",
   "version": "3.11.0"
  },
  "orig_nbformat": 4,
  "vscode": {
   "interpreter": {
    "hash": "35dc66fb56cd16c460134023984d31703a866f0c905b6ad9731d8e9cbdef115c"
   }
  }
 },
 "nbformat": 4,
 "nbformat_minor": 2
}
